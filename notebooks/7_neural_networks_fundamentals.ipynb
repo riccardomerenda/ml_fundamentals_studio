{
 "cells": [
  {
   "cell_type": "markdown",
   "id": "8574cdfa",
   "metadata": {},
   "source": [
    "# Neural Networks Fundamentals\n",
    "\n",
    "In this notebook, we'll explore Neural Networks, a powerful class of machine learning models inspired by the human brain. We'll implement a simple neural network from scratch to understand its core components and how they work together.\n",
    "\n",
    "We'll cover:\n",
    "1. Understanding neural network architecture and components\n",
    "2. Implementing forward and backward propagation\n",
    "3. Training a neural network\n",
    "4. Visualizing learning curves and decision boundaries\n",
    "5. Comparing with scikit-learn's implementation"
   ]
  },
  {
   "cell_type": "code",
   "execution_count": 19,
   "id": "e9cbe775",
   "metadata": {},
   "outputs": [],
   "source": [
    "import numpy as np\n",
    "import matplotlib.pyplot as plt\n",
    "from sklearn.model_selection import train_test_split\n",
    "from sklearn.neural_network import MLPClassifier\n",
    "import sys\n",
    "import os\n",
    "\n",
    "# Add the parent directory to sys.path to import custom modules\n",
    "sys.path.append(os.path.join(os.getcwd(), '..'))\n",
    "\n",
    "# Import custom modules\n",
    "from models.neural_network import NeuralNetwork\n",
    "from utils.data_generator import generate_nonlinear_data\n",
    "from utils.plotting import plot_decision_boundary, plot_learning_curve\n",
    "\n",
    "# Set random seed for reproducibility\n",
    "np.random.seed(42)"
   ]
  },
  {
   "cell_type": "markdown",
   "id": "bf0ca93a",
   "metadata": {},
   "source": [
    "## 1. Generate Synthetic Data\n",
    "\n",
    "We'll create a synthetic dataset with a non-linear decision boundary to demonstrate the capabilities of neural networks."
   ]
  },
  {
   "cell_type": "code",
   "execution_count": null,
   "id": "191197b3",
   "metadata": {},
   "outputs": [],
   "source": [
    "# Generate synthetic data\n",
    "X, y = generate_nonlinear_data(n_samples=1000, noise=0.1, random_state=42)\n",
    "\n",
    "# Split the data into training and testing sets\n",
    "X_train, X_test, y_train, y_test = train_test_split(X, y, test_size=0.2, random_state=42)\n",
    "\n",
    "# Plot the data\n",
    "plt.figure(figsize=(10, 8))\n",
    "plt.scatter(X[:, 0], X[:, 1], c=y, cmap='viridis')\n",
    "plt.colorbar()\n",
    "plt.title('Synthetic Classification Dataset')\n",
    "plt.xlabel('Feature 1')\n",
    "plt.ylabel('Feature 2')\n",
    "plt.show()"
   ]
  },
  {
   "cell_type": "markdown",
   "id": "b311dfe2",
   "metadata": {},
   "source": [
    "## 2. Train Our Custom Neural Network\n",
    "\n",
    "Now we'll train our custom neural network implementation on the synthetic data."
   ]
  },
  {
   "cell_type": "code",
   "execution_count": null,
   "id": "524586d9",
   "metadata": {},
   "outputs": [],
   "source": [
    "# Create and train our custom neural network\n",
    "nn = NeuralNetwork(layer_sizes=[2, 4, 1], learning_rate=0.01, epochs=1000)\n",
    "nn.fit(X_train, y_train)\n",
    "\n",
    "# Make predictions\n",
    "y_pred = nn.predict(X_test)\n",
    "\n",
    "# Calculate accuracy\n",
    "accuracy = np.mean((y_pred > 0.5) == y_test)\n",
    "print(f'Test accuracy: {accuracy:.4f}')\n",
    "\n",
    "# Plot learning curve\n",
    "plt.figure(figsize=(10, 6))\n",
    "epochs = range(1, len(nn.cost_history) + 1)\n",
    "plt.plot(epochs, nn.cost_history, 'b-', label='Training Cost')\n",
    "plt.title('Neural Network Learning Curve')\n",
    "plt.xlabel('Epochs')\n",
    "plt.ylabel('Cost')\n",
    "plt.legend()\n",
    "plt.grid(True)\n",
    "plt.show()"
   ]
  },
  {
   "cell_type": "markdown",
   "id": "64fad38a",
   "metadata": {},
   "source": [
    "## 3. Visualize Decision Boundary\n",
    "\n",
    "Let's visualize the decision boundary learned by our custom neural network."
   ]
  },
  {
   "cell_type": "code",
   "execution_count": null,
   "id": "e1b26513",
   "metadata": {},
   "outputs": [],
   "source": [
    "# Plot decision boundary for our custom implementation\n",
    "plot_decision_boundary(X_test, y_test, nn, title='Custom Neural Network Decision Boundary')"
   ]
  },
  {
   "cell_type": "markdown",
   "id": "136e320e",
   "metadata": {},
   "source": [
    "## 4. Compare with Scikit-learn\n",
    "\n",
    "Let's compare our implementation with scikit-learn's neural network classifier."
   ]
  },
  {
   "cell_type": "code",
   "execution_count": null,
   "id": "a4e66348",
   "metadata": {},
   "outputs": [],
   "source": [
    "# Create and train scikit-learn's neural network\n",
    "sklearn_nn = MLPClassifier(hidden_layer_sizes=(4,), max_iter=1000, learning_rate_init=0.01, random_state=42)\n",
    "sklearn_nn.fit(X_train, y_train)\n",
    "\n",
    "# Make predictions\n",
    "sklearn_y_pred = sklearn_nn.predict(X_test)\n",
    "\n",
    "# Calculate accuracy\n",
    "sklearn_accuracy = np.mean(sklearn_y_pred == y_test)\n",
    "print(f'Scikit-learn Neural Network accuracy: {sklearn_accuracy:.4f}')\n",
    "\n",
    "# Plot decision boundary\n",
    "plot_decision_boundary(X_test, y_test, sklearn_nn, title='Scikit-learn Neural Network Decision Boundary')"
   ]
  },
  {
   "cell_type": "markdown",
   "id": "7854b16e",
   "metadata": {},
   "source": [
    "## 5. Effect of Network Architecture\n",
    "\n",
    "Let's explore how different network architectures affect the model's performance and decision boundary."
   ]
  },
  {
   "cell_type": "code",
   "execution_count": null,
   "id": "8c5fc1f7",
   "metadata": {},
   "outputs": [],
   "source": [
    "architectures = [[2, 2, 1], [2, 4, 1], [2, 8, 1], [2, 4, 4, 1]]\n",
    "fig, axes = plt.subplots(2, 2, figsize=(15, 10))\n",
    "axes = axes.ravel()  # Flatten the 2x2 array of axes\n",
    "\n",
    "for i, arch in enumerate(architectures):\n",
    "    # Train neural network with different architectures\n",
    "    nn = NeuralNetwork(layer_sizes=arch, learning_rate=0.01, epochs=1000)\n",
    "    nn.fit(X_train, y_train)\n",
    "    \n",
    "    # Create mesh grid for decision boundary\n",
    "    x_min, x_max = X_test[:, 0].min() - 0.5, X_test[:, 0].max() + 0.5\n",
    "    y_min, y_max = X_test[:, 1].min() - 0.5, X_test[:, 1].max() + 0.5\n",
    "    xx, yy = np.meshgrid(np.arange(x_min, x_max, 0.02),\n",
    "                        np.arange(y_min, y_max, 0.02))\n",
    "    \n",
    "    # Make predictions\n",
    "    Z = nn.predict(np.c_[xx.ravel(), yy.ravel()])\n",
    "    Z = Z.reshape(xx.shape)\n",
    "    \n",
    "    # Plot\n",
    "    axes[i].contourf(xx, yy, Z, alpha=0.4)\n",
    "    axes[i].scatter(X_test[:, 0], X_test[:, 1], c=y_test, alpha=0.8)\n",
    "    axes[i].set_title(f'Decision Boundary (Architecture: {arch})')\n",
    "    axes[i].set_xlabel('Feature 1')\n",
    "    axes[i].set_ylabel('Feature 2')\n",
    "\n",
    "plt.tight_layout()\n",
    "plt.show()"
   ]
  },
  {
   "cell_type": "markdown",
   "id": "81dad88d",
   "metadata": {},
   "source": [
    "## Conclusion\n",
    "\n",
    "In this notebook, we've explored neural networks by:\n",
    "1. Implementing a neural network from scratch\n",
    "2. Training it on synthetic data\n",
    "3. Visualizing its decision boundaries\n",
    "4. Comparing it with scikit-learn's implementation\n",
    "5. Analyzing the effect of network architecture on model performance\n",
    "\n",
    "Key takeaways:\n",
    "- Neural networks can learn complex, non-linear decision boundaries\n",
    "- Network architecture (number and size of layers) affects model capacity\n",
    "- Learning rate and number of epochs are important hyperparameters\n",
    "- Our implementation performs similarly to scikit-learn's "
   ]
  }
 ],
 "metadata": {
  "jupytext": {
   "cell_metadata_filter": "-all",
   "main_language": "python",
   "notebook_metadata_filter": "-all"
  },
  "kernelspec": {
   "display_name": "Python 3",
   "language": "python",
   "name": "python3"
  },
  "language_info": {
   "codemirror_mode": {
    "name": "ipython",
    "version": 3
   },
   "file_extension": ".py",
   "mimetype": "text/x-python",
   "name": "python",
   "nbconvert_exporter": "python",
   "pygments_lexer": "ipython3",
   "version": "3.13.0"
  }
 },
 "nbformat": 4,
 "nbformat_minor": 5
}
